{
 "cells": [
  {
   "cell_type": "code",
   "execution_count": 3,
   "metadata": {},
   "outputs": [
    {
     "ename": "SyntaxError",
     "evalue": "invalid syntax (<ipython-input-3-135e0f550937>, line 8)",
     "output_type": "error",
     "traceback": [
      "\u001b[1;36m  File \u001b[1;32m\"<ipython-input-3-135e0f550937>\"\u001b[1;36m, line \u001b[1;32m8\u001b[0m\n\u001b[1;33m    p1=\u001b[0m\n\u001b[1;37m              ^\u001b[0m\n\u001b[1;31mSyntaxError\u001b[0m\u001b[1;31m:\u001b[0m invalid syntax\n"
     ]
    }
   ],
   "source": [
    "wt=int (input(\"Enter the weight\"))\n",
    "p1=p2=p3=p4-0;\n",
    "if(wt>0):\n",
    "    pass\n",
    "elif(wt<=500):\n",
    "    p1=35\n",
    "elif(wt<=1200):\n",
    "    p1=       \n",
    "    wt1=wt-500\n",
    "    p2=wt1*0.2\n",
    "elif(wt<=1800):\n",
    "    p1=35\n",
    "    p2=700*0.2\n",
    "    wt1=wt-1200\n",
    "    p3=wt1*0.4\n",
    "elif(wt>1800):\n",
    "    p1=35\n",
    "    p2=700*0.2\n",
    "    p3=600*0.4\n",
    "    wt1=wt-1800\n",
    "    p4=wt1*1.2\n",
    "else:\n",
    "    print\"Invalid\"\n",
    "    \n",
    "print(\"Net weight of parcel is:\",wt)\n",
    "    py=p1+p2+p3+p4;\n",
    "print(\"Net payable amount is: \",py)\n",
    "    "
   ]
  },
  {
   "cell_type": "code",
   "execution_count": 3,
   "metadata": {},
   "outputs": [
    {
     "data": {
      "text/plain": [
       "2300"
      ]
     },
     "execution_count": 3,
     "metadata": {},
     "output_type": "execute_result"
    }
   ],
   "source": [
    "2300\n"
   ]
  },
  {
   "cell_type": "code",
   "execution_count": null,
   "metadata": {
    "collapsed": true
   },
   "outputs": [],
   "source": [
    "450\n"
   ]
  }
 ],
 "metadata": {
  "kernelspec": {
   "display_name": "Python 3",
   "language": "python",
   "name": "python3"
  },
  "language_info": {
   "codemirror_mode": {
    "name": "ipython",
    "version": 3
   },
   "file_extension": ".py",
   "mimetype": "text/x-python",
   "name": "python",
   "nbconvert_exporter": "python",
   "pygments_lexer": "ipython3",
   "version": "3.7.6"
  }
 },
 "nbformat": 4,
 "nbformat_minor": 2
}
