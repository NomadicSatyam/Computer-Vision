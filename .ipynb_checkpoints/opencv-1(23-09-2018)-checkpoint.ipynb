{
 "cells": [
  {
   "cell_type": "code",
   "execution_count": 6,
   "metadata": {
    "collapsed": true
   },
   "outputs": [],
   "source": [
    "import cv2\n"
   ]
  },
  {
   "cell_type": "code",
   "execution_count": 15,
   "metadata": {},
   "outputs": [],
   "source": [
    "img=cv2.imread(\"C:/Users/satya/Pictures/Camera Roll/3.jpg\")\n",
    "\n",
    "cv2.imshow('image',img)\n",
    "cv2.waitKey(10)\n",
    "cv2.destroyAllWindows()"
   ]
  },
  {
   "cell_type": "code",
   "execution_count": 5,
   "metadata": {},
   "outputs": [
    {
     "data": {
      "text/plain": [
       "True"
      ]
     },
     "execution_count": 5,
     "metadata": {},
     "output_type": "execute_result"
    }
   ],
   "source": [
    "cv2.imwrite(\"C:/Users/satya/Pictures/Camera Roll/4.jpg\",img)"
   ]
  },
  {
   "cell_type": "code",
   "execution_count": 13,
   "metadata": {},
   "outputs": [
    {
     "data": {
      "text/plain": [
       "array([[[174, 182, 122],\n",
       "        [181, 189, 129],\n",
       "        [189, 192, 137],\n",
       "        ..., \n",
       "        [251, 252, 250],\n",
       "        [251, 252, 250],\n",
       "        [251, 252, 250]],\n",
       "\n",
       "       [[176, 183, 126],\n",
       "        [179, 186, 129],\n",
       "        [181, 186, 131],\n",
       "        ..., \n",
       "        [251, 252, 250],\n",
       "        [251, 252, 250],\n",
       "        [251, 252, 250]],\n",
       "\n",
       "       [[179, 185, 130],\n",
       "        [177, 183, 130],\n",
       "        [176, 179, 129],\n",
       "        ..., \n",
       "        [251, 251, 251],\n",
       "        [251, 251, 251],\n",
       "        [251, 251, 251]],\n",
       "\n",
       "       ..., \n",
       "       [[134, 148, 120],\n",
       "        [132, 145, 119],\n",
       "        [129, 142, 116],\n",
       "        ..., \n",
       "        [ 50,  49,  23],\n",
       "        [ 55,  51,  27],\n",
       "        [ 56,  52,  28]],\n",
       "\n",
       "       [[131, 144, 118],\n",
       "        [130, 143, 117],\n",
       "        [128, 141, 117],\n",
       "        ..., \n",
       "        [ 53,  50,  22],\n",
       "        [ 57,  52,  27],\n",
       "        [ 57,  52,  27]],\n",
       "\n",
       "       [[130, 143, 117],\n",
       "        [129, 142, 116],\n",
       "        [127, 139, 117],\n",
       "        ..., \n",
       "        [ 53,  50,  22],\n",
       "        [ 58,  53,  28],\n",
       "        [ 58,  53,  28]]], dtype=uint8)"
      ]
     },
     "execution_count": 13,
     "metadata": {},
     "output_type": "execute_result"
    }
   ],
   "source": [
    "#import numpy as np\n",
    "import cv2\n",
    "\n",
    "#read color image with opencv2 and show its matrix\n",
    "image=cv2.imread(\"C:/Users/satya/Pictures/Camera Roll/3.jpg\")\n",
    "image"
   ]
  },
  {
   "cell_type": "code",
   "execution_count": 6,
   "metadata": {},
   "outputs": [],
   "source": [
    "import cv2\n",
    "img=cv2.imread(\"C:/Users/satya/Pictures/Camera Roll/3.jpg\")\n",
    "\n",
    "cv2.imshow('image',img)\n",
    "k=cv2.waitKey(0)\n",
    "if k==27:\n",
    "    #27 is ASCII code of Esc\n",
    "    cv2.destroyAllWindows()\n",
    "elif k== ord('q'):\n",
    "    #wait for q key to save and exit\n",
    "    cv2.imwrite(\"C:/Users/satya/Pictures/Camera Roll/5.jpg\",img)\n",
    "    cv2.destroyAllWindows()"
   ]
  },
  {
   "cell_type": "code",
   "execution_count": null,
   "metadata": {
    "collapsed": true
   },
   "outputs": [],
   "source": [
    "import cv2\n",
    "\n",
    "cap=cv2.VideoCapture(0)\n",
    "while(True):\n",
    "    #Capture frame-by-frame\n",
    "    ret, frame=cap.read()\n",
    "    \n",
    "    gray = cv2.cv2Color(frame, cv2.COLOR_BGRA2GRAY)\n",
    "    \n",
    "    cv2.imshow('frame',gray)\n",
    "    if cv2.waitKey(1) & 0xFF==ord('q'):\n",
    "        break\n",
    "cap.release()\n",
    "cv2.destroyAllWindows()"
   ]
  },
  {
   "cell_type": "code",
   "execution_count": null,
   "metadata": {
    "collapsed": true
   },
   "outputs": [],
   "source": []
  }
 ],
 "metadata": {
  "kernelspec": {
   "display_name": "Python 3",
   "language": "python",
   "name": "python3"
  },
  "language_info": {
   "codemirror_mode": {
    "name": "ipython",
    "version": 3
   },
   "file_extension": ".py",
   "mimetype": "text/x-python",
   "name": "python",
   "nbconvert_exporter": "python",
   "pygments_lexer": "ipython3",
   "version": "3.7.6"
  }
 },
 "nbformat": 4,
 "nbformat_minor": 2
}
